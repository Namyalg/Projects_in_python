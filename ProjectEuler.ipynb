{
  "nbformat": 4,
  "nbformat_minor": 0,
  "metadata": {
    "colab": {
      "name": "ProjectEuler.ipynb",
      "provenance": [],
      "authorship_tag": "ABX9TyP+ya9Hpyw7pI7O3Ugs4sH8",
      "include_colab_link": true
    },
    "kernelspec": {
      "name": "python3",
      "display_name": "Python 3"
    }
  },
  "cells": [
    {
      "cell_type": "markdown",
      "metadata": {
        "id": "view-in-github",
        "colab_type": "text"
      },
      "source": [
        "<a href=\"https://colab.research.google.com/github/Namyalg/Projects_in_python/blob/master/ProjectEuler.ipynb\" target=\"_parent\"><img src=\"https://colab.research.google.com/assets/colab-badge.svg\" alt=\"Open In Colab\"/></a>"
      ]
    },
    {
      "cell_type": "code",
      "metadata": {
        "id": "jLXRK2PIcFte",
        "colab_type": "code",
        "colab": {
          "base_uri": "https://localhost:8080/",
          "height": 1000
        },
        "outputId": "78c18a35-7cbf-438c-ae0a-c12542d92c20"
      },
      "source": [
        "#!/usr/bin/env python3\n",
        "\n",
        "#Imports and dependencies\n",
        "\n",
        "import requests\n",
        "from bs4 import BeautifulSoup\n",
        "import re\n",
        "import csv\n",
        "\n",
        "def Euler():\n",
        "  \n",
        "  #The contents are written into a CSV file\n",
        "  #Each question has a serial number, name of the problem and description of the problem\n",
        "\n",
        "  with open('Project_Euler.csv', 'w', newline='') as file:\n",
        "    writer = csv.writer(file)\n",
        "    writer.writerow([\"Problem Number\", \"Name\" , \"Description\"])\n",
        "    \n",
        "    #There are 15 pages in all, the page number is appended to the URL\n",
        "    start = 1\n",
        "    pages = 15\n",
        "\n",
        "    for page in range(start , pages + start):\n",
        "      \n",
        "      #Response is got from each page, the questions are then searched for \n",
        "      page_url = \"https://projecteuler.net/archives;page=\"+ str(page)\n",
        "      response = requests.get(page_url)\n",
        "      soup = BeautifulSoup(response.text,\"html.parser\")\n",
        "      \n",
        "      #All the questions are located within the <table> tag\n",
        "      #This information can be found out by using inspect element, Ctrl+Shift+I\n",
        "\n",
        "      for link in soup.find('table' , attrs={\"id\" : \"problems_table\"}).find_all('a'):\n",
        "        \n",
        "        #The link to the question is located in a <a> tag\n",
        "        question_url = \"https://projecteuler.net/\" + link['href']\n",
        "\n",
        "        #The name and question number are obtained\n",
        "        question_number = link['href'].split('=')[-1]\n",
        "        question_name = link.string\n",
        "\n",
        "        ques_response = requests.get(question_url)\n",
        "        ques_contents = BeautifulSoup(ques_response.text, \"html.parser\")\n",
        "        description = ''\n",
        "        \n",
        "        #In each question element, the description is mentioned in the <div> tag\n",
        "\n",
        "        for content in ques_contents.find(\"div\" , attrs={\"class\":\"problem_content\"}).children:  \n",
        "\n",
        "          #The content between the tags are obtained getting rid of the tag elements\n",
        "\n",
        "          content = re.sub(r'\\<.*?>', r' ', str(content))\n",
        "          description += content\n",
        "        \n",
        "        #Each entry is written into the file\n",
        "\n",
        "        writer.writerow([question_number, question_name , description])\n",
        "\n",
        "Euler()            \n",
        "\n"
      ],
      "execution_count": 2,
      "outputs": [
        {
          "output_type": "stream",
          "text": [
            "ERROR:root:Internal Python error in the inspect module.\n",
            "Below is the traceback from this internal error.\n",
            "\n"
          ],
          "name": "stderr"
        },
        {
          "output_type": "stream",
          "text": [
            "Traceback (most recent call last):\n",
            "  File \"/usr/local/lib/python3.6/dist-packages/IPython/core/interactiveshell.py\", line 2882, in run_code\n",
            "    exec(code_obj, self.user_global_ns, self.user_ns)\n",
            "  File \"<ipython-input-2-f0b90f0803b9>\", line 59, in <module>\n",
            "    Euler()\n",
            "  File \"<ipython-input-2-f0b90f0803b9>\", line 42, in Euler\n",
            "    ques_response = requests.get(question_url)\n",
            "  File \"/usr/local/lib/python3.6/dist-packages/requests/api.py\", line 76, in get\n",
            "    return request('get', url, params=params, **kwargs)\n",
            "  File \"/usr/local/lib/python3.6/dist-packages/requests/api.py\", line 61, in request\n",
            "    return session.request(method=method, url=url, **kwargs)\n",
            "  File \"/usr/local/lib/python3.6/dist-packages/requests/sessions.py\", line 530, in request\n",
            "    resp = self.send(prep, **send_kwargs)\n",
            "  File \"/usr/local/lib/python3.6/dist-packages/requests/sessions.py\", line 643, in send\n",
            "    r = adapter.send(request, **kwargs)\n",
            "  File \"/usr/local/lib/python3.6/dist-packages/requests/adapters.py\", line 449, in send\n",
            "    timeout=timeout\n",
            "  File \"/usr/local/lib/python3.6/dist-packages/urllib3/connectionpool.py\", line 600, in urlopen\n",
            "    chunked=chunked)\n",
            "  File \"/usr/local/lib/python3.6/dist-packages/urllib3/connectionpool.py\", line 343, in _make_request\n",
            "    self._validate_conn(conn)\n",
            "  File \"/usr/local/lib/python3.6/dist-packages/urllib3/connectionpool.py\", line 839, in _validate_conn\n",
            "    conn.connect()\n",
            "  File \"/usr/local/lib/python3.6/dist-packages/urllib3/connection.py\", line 344, in connect\n",
            "    ssl_context=context)\n",
            "  File \"/usr/local/lib/python3.6/dist-packages/urllib3/util/ssl_.py\", line 345, in ssl_wrap_socket\n",
            "    return context.wrap_socket(sock, server_hostname=server_hostname)\n",
            "  File \"/usr/lib/python3.6/ssl.py\", line 407, in wrap_socket\n",
            "    _context=self, _session=session)\n",
            "  File \"/usr/lib/python3.6/ssl.py\", line 817, in __init__\n",
            "    self.do_handshake()\n",
            "  File \"/usr/lib/python3.6/ssl.py\", line 1077, in do_handshake\n",
            "    self._sslobj.do_handshake()\n",
            "  File \"/usr/lib/python3.6/ssl.py\", line 689, in do_handshake\n",
            "    self._sslobj.do_handshake()\n",
            "KeyboardInterrupt\n",
            "\n",
            "During handling of the above exception, another exception occurred:\n",
            "\n",
            "Traceback (most recent call last):\n",
            "  File \"/usr/local/lib/python3.6/dist-packages/IPython/core/interactiveshell.py\", line 1823, in showtraceback\n",
            "    stb = value._render_traceback_()\n",
            "AttributeError: 'KeyboardInterrupt' object has no attribute '_render_traceback_'\n",
            "\n",
            "During handling of the above exception, another exception occurred:\n",
            "\n",
            "Traceback (most recent call last):\n",
            "  File \"/usr/local/lib/python3.6/dist-packages/IPython/core/ultratb.py\", line 1132, in get_records\n",
            "    return _fixed_getinnerframes(etb, number_of_lines_of_context, tb_offset)\n",
            "  File \"/usr/local/lib/python3.6/dist-packages/IPython/core/ultratb.py\", line 313, in wrapped\n",
            "    return f(*args, **kwargs)\n",
            "  File \"/usr/local/lib/python3.6/dist-packages/IPython/core/ultratb.py\", line 358, in _fixed_getinnerframes\n",
            "    records = fix_frame_records_filenames(inspect.getinnerframes(etb, context))\n",
            "  File \"/usr/lib/python3.6/inspect.py\", line 1490, in getinnerframes\n",
            "    frameinfo = (tb.tb_frame,) + getframeinfo(tb, context)\n",
            "  File \"/usr/lib/python3.6/inspect.py\", line 1448, in getframeinfo\n",
            "    filename = getsourcefile(frame) or getfile(frame)\n",
            "  File \"/usr/lib/python3.6/inspect.py\", line 696, in getsourcefile\n",
            "    if getattr(getmodule(object, filename), '__loader__', None) is not None:\n",
            "  File \"/usr/lib/python3.6/inspect.py\", line 733, in getmodule\n",
            "    if ismodule(module) and hasattr(module, '__file__'):\n",
            "KeyboardInterrupt\n"
          ],
          "name": "stdout"
        },
        {
          "output_type": "error",
          "ename": "KeyboardInterrupt",
          "evalue": "ignored",
          "traceback": [
            "\u001b[0;31m---------------------------------------------------------------------------\u001b[0m"
          ]
        }
      ]
    }
  ]
}