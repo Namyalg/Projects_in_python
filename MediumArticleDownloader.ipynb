{
  "nbformat": 4,
  "nbformat_minor": 0,
  "metadata": {
    "colab": {
      "name": "MediumArticleDownloader.ipynb",
      "provenance": [],
      "authorship_tag": "ABX9TyNaAnu3StPUZHekq3fpDBNQ",
      "include_colab_link": true
    },
    "kernelspec": {
      "name": "python3",
      "display_name": "Python 3"
    }
  },
  "cells": [
    {
      "cell_type": "markdown",
      "metadata": {
        "id": "view-in-github",
        "colab_type": "text"
      },
      "source": [
        "<a href=\"https://colab.research.google.com/github/Namyalg/Projects_in_python/blob/master/MediumArticleDownloader.ipynb\" target=\"_parent\"><img src=\"https://colab.research.google.com/assets/colab-badge.svg\" alt=\"Open In Colab\"/></a>"
      ]
    },
    {
      "cell_type": "code",
      "metadata": {
        "id": "TgzdPwlt7ozn",
        "colab_type": "code",
        "colab": {}
      },
      "source": [
        "#Imports and dependencies\n",
        "\n",
        "import requests\n",
        "from bs4 import BeautifulSoup\n",
        "import re\n",
        "\n",
        "#The content is written into a text file\n",
        "\n",
        "file = open(\"Medium_article_content.txt\", \"w\")\n",
        "\n",
        "#The URL of the article is entered here\n",
        "page_url = input(\"Enter the URL of the Medium Article \")\n",
        "\n",
        "#Based on the response got from the URL, the content is loaded into response\n",
        "\n",
        "response = requests.get(page_url)\n",
        "\n",
        "#Beautiful soup is a library used for web scraping and parsing the contents of a web page\n",
        "#Here a html parser is used to parse through the content embedded in the html tags\n",
        "\n",
        "soup = BeautifulSoup(response.text,\"html.parser\")\n",
        "\n",
        "#The content of the article is stored in the <article> tag\n",
        "\n",
        "for line in soup.find('article').find('div'):\n",
        "  \n",
        "  #All the content is essentially stored between <p> tags\n",
        "  \n",
        "  for content in line.find_all('p'):\n",
        "\n",
        "    #contents are written into a file\n",
        "    \n",
        "    file.write(content.text + '\\n')\n",
        "\n",
        "file.close()"
      ],
      "execution_count": null,
      "outputs": []
    }
  ]
}