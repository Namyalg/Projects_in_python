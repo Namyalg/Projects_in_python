{
  "nbformat": 4,
  "nbformat_minor": 0,
  "metadata": {
    "colab": {
      "name": "K-nearest-neighbours.ipynb",
      "provenance": [],
      "authorship_tag": "ABX9TyMESw7fr6RtpmuQkAI+Puy2",
      "include_colab_link": true
    },
    "kernelspec": {
      "name": "python3",
      "display_name": "Python 3"
    }
  },
  "cells": [
    {
      "cell_type": "markdown",
      "metadata": {
        "id": "view-in-github",
        "colab_type": "text"
      },
      "source": [
        "<a href=\"https://colab.research.google.com/github/Namyalg/Projects_in_python/blob/master/K_nearest_neighbours.ipynb\" target=\"_parent\"><img src=\"https://colab.research.google.com/assets/colab-badge.svg\" alt=\"Open In Colab\"/></a>"
      ]
    },
    {
      "cell_type": "code",
      "metadata": {
        "id": "AsTIPcqFzYig",
        "colab_type": "code",
        "colab": {}
      },
      "source": [
        "import pandas as pd \n",
        "import numpy as np\n",
        "from sklearn.datasets import load_iris\n",
        "from scipy.spatial import distance\n",
        "import random\n",
        "from collections import Counter\n",
        "from sklearn.model_selection import train_test_split"
      ],
      "execution_count": 124,
      "outputs": []
    },
    {
      "cell_type": "code",
      "metadata": {
        "id": "Pu45dBWB6jf1",
        "colab_type": "code",
        "colab": {}
      },
      "source": [
        "iris=load_iris()\n",
        "#Load the iris dataset\n",
        "\n",
        "#print(iris['sepal_length' , 'sepal_width' , 'petal_length' , 'petal_width'])"
      ],
      "execution_count": 116,
      "outputs": []
    },
    {
      "cell_type": "code",
      "metadata": {
        "id": "ia_3ncho6lx8",
        "colab_type": "code",
        "colab": {}
      },
      "source": [
        "X=iris.data\n",
        "y=iris.target"
      ],
      "execution_count": 117,
      "outputs": []
    },
    {
      "cell_type": "code",
      "metadata": {
        "id": "g8XyXiWR6pMP",
        "colab_type": "code",
        "colab": {}
      },
      "source": [
        "\n",
        "X_train,X_test,y_train,y_test=train_test_split(X,y,test_size=0.5)"
      ],
      "execution_count": 118,
      "outputs": []
    },
    {
      "cell_type": "code",
      "metadata": {
        "id": "cJxjHvLqGwVl",
        "colab_type": "code",
        "colab": {}
      },
      "source": [
        "flowers = [\"setosa\" , \"versicolor\" , \"virginica\"]"
      ],
      "execution_count": 121,
      "outputs": []
    },
    {
      "cell_type": "code",
      "metadata": {
        "id": "FQSu4gNZ911-",
        "colab_type": "code",
        "colab": {
          "base_uri": "https://localhost:8080/",
          "height": 85
        },
        "outputId": "db77410a-640e-40dc-c215-2b7cf76aded4"
      },
      "source": [
        "dist = []\n",
        "to_predict = random.randint(0,74)\n",
        "b = X_test[to_predict]\n",
        "for i ,j in enumerate(X_train):\n",
        "  a = X_train[i]\n",
        "  dist.append([distance.euclidean(a, b) , y_train[i]])\n",
        "seven_nearest = np.array(sorted(dist)[:7])\n",
        "a,b = map(list,zip(*seven_nearest))\n",
        "flower_type = (Counter(list(b)))\n",
        "\n",
        "species_predicted = flowers[int(max(flower_type, key=flower_type.get))] \n",
        "\n",
        "print(\"The algorithm predicts \" )\n",
        "print(species_predicted)\n",
        "\n",
        "print(\"The actual classification \")\n",
        "print(flowers[y_test[to_predict]]) "
      ],
      "execution_count": 129,
      "outputs": [
        {
          "output_type": "stream",
          "text": [
            "The algorithm predicts \n",
            "versicolor\n",
            "The actual classification \n",
            "versicolor\n"
          ],
          "name": "stdout"
        }
      ]
    }
  ]
}