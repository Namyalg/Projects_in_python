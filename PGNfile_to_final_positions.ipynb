{
  "nbformat": 4,
  "nbformat_minor": 0,
  "metadata": {
    "colab": {
      "name": "PGNfile_to_final_positions.ipynb",
      "provenance": [],
      "collapsed_sections": [],
      "authorship_tag": "ABX9TyMjYCNSdLSjh6cbjfsazWql",
      "include_colab_link": true
    },
    "kernelspec": {
      "name": "python3",
      "display_name": "Python 3"
    }
  },
  "cells": [
    {
      "cell_type": "markdown",
      "metadata": {
        "id": "view-in-github",
        "colab_type": "text"
      },
      "source": [
        "<a href=\"https://colab.research.google.com/github/Namyalg/Projects_in_python/blob/master/PGNfile_to_final_positions.ipynb\" target=\"_parent\"><img src=\"https://colab.research.google.com/assets/colab-badge.svg\" alt=\"Open In Colab\"/></a>"
      ]
    },
    {
      "cell_type": "markdown",
      "metadata": {
        "id": "AHQCJjV3ORLF",
        "colab_type": "text"
      },
      "source": [
        "THIS is the code for reading any given pgn or portable game notattion file and then displaying the final moves in the format given below, it can also be convereted to fen \n",
        "\n",
        "\n",
        "Get the files from drive\n"
      ]
    },
    {
      "cell_type": "code",
      "metadata": {
        "id": "OGklkHoEICSo",
        "colab_type": "code",
        "outputId": "1e1df8a0-1fb6-4a0f-dd06-b495579a1813",
        "colab": {
          "base_uri": "https://localhost:8080/",
          "height": 71
        }
      },
      "source": [
        "import re\n",
        "\n",
        "with open(\"pgn3.txt\", \"r\") as file: \n",
        "  file_contents = ''\n",
        "  for line in file:\n",
        "    file_contents += line + ' '\n",
        "  info = re.compile('<[^>]*>')\n",
        "  file_contents = (file_contents.replace('\\n' ,'').replace('[' ,'<').replace(']','>').replace('{' , '').replace('}' ,''))\n",
        "  file_contents = info.sub('' , file_contents).strip()\n",
        "  game = [i.strip() for i in file_contents.split('.')][1:]\n",
        "  last_move = game[-1]\n",
        "  result = re.compile('( *1 *- *0 *| *0 *- *1 *| *1/2 *- *1/2 *)')\n",
        "  last_move = result.sub('' , last_move)\n",
        "  game = game[:-1]\n",
        "  if len([last_move])!= 0:\n",
        "    game = [i.split()[:-1] for i in game] + [[last_move ,'']]\n",
        "  else:\n",
        "    game = [i.split()[:-1] for i in game]\n",
        "\n",
        "\n",
        "\n",
        "  \n",
        "_"
      ],
      "execution_count": 0,
      "outputs": [
        {
          "output_type": "stream",
          "text": [
            "[['d4', 'd5'], ['c4', 'c6'], ['Nf3', 'Nf6'], ['Nc3', 'dxc4'], ['a4', 'Bf5'], ['e3', 'e6'], ['Bxc4', 'Bb4'], ['O-O', 'Nbd7'], ['Qe2', 'Bg4'], ['h3', 'Bxf3'], ['Qxf3', 'O-O'], ['Rd1', 'Qa5'], ['e4', 'e5'], ['d5', 'Nb6'], ['Bb3', 'Bxc3'], ['bxc3', 'cxd5'], ['exd5', 'Rac8'], ['c4', 'Rfe8'], ['Bd2', 'Qa6'], ['d6', 'Nbd7'], ['Be3', 'Rc6'], ['a5', 'Rxd6'], ['Ba4', 'Rxd1+'], ['Rxd1', 'Rd8'], ['c5', 'h6'], ['Qf5', 'g6'], ['Qc2', 'Qxa5'], ['Rd6', 'Kg7'], ['Qd1', 'Qc7'], ['h4', 'Kh8'], ['h5', 'g5'], ['Qf3', 'Kg7'], ['Qf5', 'b6'], ['Bxd7', 'Nxd7'], ['Bxg5', '']]\n"
          ],
          "name": "stdout"
        },
        {
          "output_type": "execute_result",
          "data": {
            "text/plain": [
              "''"
            ]
          },
          "metadata": {
            "tags": []
          },
          "execution_count": 5
        }
      ]
    },
    {
      "cell_type": "code",
      "metadata": {
        "id": "lthfhQgiHBH8",
        "colab_type": "code",
        "colab": {}
      },
      "source": [
        "def rank_diff(from_ , to_):\n",
        "  return(int(to_[1]) - int(from_[1]))\n",
        "\n",
        "def file_diff(from_, to_):\n",
        "  return(ord(to_[0]) - ord(from_[0]))\n",
        "\n",
        "def fr(from_ , to_):\n",
        "  return(rank_diff(from_ , to_) , file_diff(from_ , to_))\n",
        "\n",
        "def rook(from_ , to_):\n",
        "  st = fr(from_ , to_)\n",
        "  return(st[0] ==0  or st[1] == 0)\n",
        "\n",
        "def bishop(from_ , to_):\n",
        "  st = fr(from_ , to_)\n",
        "  return(abs(st[0]) == abs(st[1]))\n",
        "\n",
        "def knight(from_ , to_):\n",
        "  st = fr(from_ , to_)\n",
        "  return((abs(st[0]) , abs(st[1])) in [(1,2) , (2,1)])\n",
        "\n",
        "def king(from_ , to_):\n",
        "  st = fr(from_ , to_)\n",
        "  return(abs(st[0]) , abs(st[1]) in [(1,0) , (0,1) , (1,1)])\n",
        "\n",
        "def queen(from_ , to_):\n",
        "  return(bishop(from_ , to_) or rook(from_ , to_))\n",
        "\n",
        "def wPawn(from_ ,to_):\n",
        "  st = fr(from_ , to_)\n",
        "  if int(from_[1]) == 2:\n",
        "    return(st[0] in [1,2] and st[1] == 0)\n",
        "  return(st[0] == 1 and st[1] == 0)\n",
        "\n",
        "\n",
        "def bPawn(from_ , to_):\n",
        "  st = fr(from_ , to_)\n",
        "  if int(from_[1]) == 7:\n",
        "    return(abs(st[0]) in [1,2] and st[1] == 0)\n",
        "  return(abs(st[0]) == 1 and st[1] == 0)\n",
        "\n",
        "def wPawncap(from_ , to_):\n",
        "  return(rank_diff(from_ , to_) == 1 and file_diff(from_ , to_) in [-1,1])\n",
        "\n",
        "def bPawncap(from_ , to_):\n",
        "  return(rank_diff(from_ , to_) == -1 and file_diff(from_ , to_) in [-1,1])"
      ],
      "execution_count": 0,
      "outputs": []
    },
    {
      "cell_type": "markdown",
      "metadata": {
        "id": "jlAPjKC8Xh5I",
        "colab_type": "text"
      },
      "source": [
        "PAWN AND PIECE MOVEMENT"
      ]
    },
    {
      "cell_type": "code",
      "metadata": {
        "id": "5DSDNGJ5Xglo",
        "colab_type": "code",
        "colab": {}
      },
      "source": [
        "def white_pawn_moves(white , white_pawns):\n",
        "  for pawn , from_ in white_pawns.items():\n",
        "        if wPawn(from_ , white):\n",
        "          white_pawns[pawn] = white\n",
        "          break\n",
        "  return(white_pawns)\n",
        "\n",
        "def black_pawn_moves(black , black_pawns):\n",
        "  for pawn , from_ in black_pawns.items():\n",
        "       if bPawn(from_ , black):\n",
        "         black_pawns[pawn] = black\n",
        "         break\n",
        "  return(black_pawns)\n",
        "\n",
        "def white_piece_moves(white , white_pieces):\n",
        "    which_one = {'K':king , 'Q':queen , 'N':knight , 'B':bishop , 'R' : rook}\n",
        "    pc = white[0]\n",
        "    white = white[1:]\n",
        "    for piece , from_ in white_pieces.items():\n",
        "      if piece.startswith(pc):\n",
        "        if which_one[pc](from_ , white):\n",
        "          temp = piece\n",
        "    white_pieces[temp] = white\n",
        "    return(white_pieces)\n",
        "\n",
        "\n",
        "def black_piece_moves(black , black_pieces):\n",
        "    which_one = {'K':king , 'Q':queen , 'N':knight , 'B':bishop , 'R' : rook}\n",
        "    pc = black[0]\n",
        "    black = black[1:]\n",
        "    for piece, from_ in black_pieces.items():\n",
        "      if piece.startswith(pc):\n",
        "        if which_one[pc](from_ , black):\n",
        "          temp = piece\n",
        "    black_pieces[temp] = black\n",
        "    return(black_pieces)\n"
      ],
      "execution_count": 0,
      "outputs": []
    },
    {
      "cell_type": "markdown",
      "metadata": {
        "id": "1Tjzahk4bndF",
        "colab_type": "text"
      },
      "source": [
        "KING-SIDE AND QUEEN-SIDE CASTLING"
      ]
    },
    {
      "cell_type": "code",
      "metadata": {
        "id": "TeiKkaQ7bsXA",
        "colab_type": "code",
        "colab": {}
      },
      "source": [
        "def white_kings_castle(white_pieces):\n",
        "    white_pieces['K'] = 'g1'\n",
        "    white_pieces['R2'] = 'f1'\n",
        "    return(white_pieces)\n",
        "\n",
        "def white_queens_castle(white_pieces):\n",
        "    white_pieces['K'] = 'c1'\n",
        "    white_pieces['R1'] = 'd1'\n",
        "    return(white_pieces)\n",
        "\n",
        "\n",
        "def black_kings_castle(black_pieces):\n",
        "  black_pieces['K'] = 'g8'\n",
        "  black_pieces['R2'] = 'f8'\n",
        "  return(black_pieces)\n",
        "\n",
        "\n",
        "def black_queens_castle(black_pieces):\n",
        "    black_pieces['K'] = 'c8'\n",
        "    black_pieces['R1'] = 'd8'\n",
        "    return(black_pieces)\n",
        "  \n",
        "    \n"
      ],
      "execution_count": 0,
      "outputs": []
    },
    {
      "cell_type": "markdown",
      "metadata": {
        "id": "qSo9AprtdfzJ",
        "colab_type": "text"
      },
      "source": [
        "AMBIGUOUS MOVES\n"
      ]
    },
    {
      "cell_type": "code",
      "metadata": {
        "id": "x6tK9wjvdkld",
        "colab_type": "code",
        "colab": {}
      },
      "source": [
        "def black_ambiguous(black , black_pieces):\n",
        "    pc = black[0]\n",
        "    on_pos = black[1]\n",
        "    to_pos = black[2:]\n",
        "    which_one = {'R' : rook , 'K':king , 'Q':queen , 'N':knight , 'B':bishop}\n",
        "    for piece, from_ in black_pieces.items():\n",
        "      if piece.startswith(pc) and from_.startswith(on_pos):\n",
        "        if which_one[pc](from_ , to_pos):\n",
        "          black_pieces[piece] = to_pos\n",
        "          break\n",
        "    return(black_pieces)\n",
        "\n",
        "def white_ambiguous(white , white_pieces):\n",
        "    pc = white[0]\n",
        "    on_pos = white[1]\n",
        "    to_pos = white[2:]\n",
        "    which_one = {'K':king , 'Q':queen , 'N':knight , 'B':bishop , 'R' : rook}\n",
        "    for piece, from_ in white_pieces.items():\n",
        "      if piece.startswith(pc) and from_.startswith(on_pos):\n",
        "        if which_one[pc](from_ , to_pos):\n",
        "          white_pieces[piece] = to_pos\n",
        "          break\n",
        "    return(white_pieces)"
      ],
      "execution_count": 0,
      "outputs": []
    },
    {
      "cell_type": "markdown",
      "metadata": {
        "id": "cQieefWqbUPT",
        "colab_type": "text"
      },
      "source": [
        "WHITE AND BLACK CAPTURE"
      ]
    },
    {
      "cell_type": "code",
      "metadata": {
        "id": "QsgOG4jPVAop",
        "colab_type": "code",
        "colab": {}
      },
      "source": [
        "def captures_white(move , white_pawns , white_pieces , black_pawns , black_pieces):\n",
        "  import re\n",
        "  pat = re.compile(r'^[a-h]x')\n",
        "  pat1 =re.compile(r'^[BQRNKQ]x')\n",
        "  if (pat.match(move)):\n",
        "    for pawn, from_ in white_pawns.items():\n",
        "      if from_.startswith(move[0]):\n",
        "        if wPawncap(from_ , move[2:]):\n",
        "          white_pawns[pawn] = move[2:]\n",
        "    try:\n",
        "      temp = list(black_pawns.keys())[list(black_pawns.values()).index(move[2:])]\n",
        "      del black_pawns[temp]\n",
        "    except:\n",
        "      temp = list(black_pieces.keys())[list(black_pieces.values()).index(move[2:])]\n",
        "      del black_pieces[temp]\n",
        "  elif pat1.match(move):\n",
        "     which_one = {'K':king , 'Q':queen , 'N':knight , 'B':bishop , 'R' : rook}\n",
        "    #3print(pc, white)\n",
        "     for piece , from_ in white_pieces.items():\n",
        "       if piece.startswith(move[0]):\n",
        "         if which_one[move[0]](from_ , move[2:]):\n",
        "           white_pieces[piece] = move[2:]\n",
        "           break\n",
        "     try:\n",
        "      temp = list(black_pawns.keys())[list(black_pawns.values()).index(move[2:])]\n",
        "      del black_pawns[temp]\n",
        "     except:\n",
        "       temp = list(black_pieces.keys())[list(black_pieces.values()).index(move[2:])]\n",
        "       del black_pieces[temp]\n",
        "\n",
        "  return(white_pawns , white_pieces , black_pawns , black_pieces)\n",
        "\n",
        "\n",
        "\n",
        "def captures_black(move , white_pawns , white_pieces , black_pawns , black_pieces):\n",
        "  import re\n",
        "  pat = re.compile(r'^[a-h]x')\n",
        "  pat1 =re.compile(r'^[BQRNKQ]x')\n",
        "  if (pat.match(move)):\n",
        "    for pawn, from_ in black_pawns.items():\n",
        "      if from_.startswith(move[0]):\n",
        "        if bPawncap(from_ , move[2:]):\n",
        "          black_pawns[pawn] = move[2:]\n",
        "    try:\n",
        "      temp = list(white_pawns.keys())[list(white_pawns.values()).index(move[2:])]\n",
        "      del white_pawns[temp]\n",
        "    except:\n",
        "      temp = list(white_pieces.keys())[list(white_pieces.values()).index(move[2:])]\n",
        "      del white_pieces[temp]\n",
        "  elif pat1.match(move):\n",
        "     which_one = {'K':king , 'Q':queen , 'N':knight , 'B':bishop , 'R' : rook}\n",
        "    #3print(pc, white)\n",
        "     for piece , from_ in black_pieces.items():\n",
        "       if piece.startswith(move[0]):\n",
        "         if which_one[move[0]](from_ , move[2:]):\n",
        "           black_pieces[piece] = move[2:]\n",
        "           break\n",
        "     try:\n",
        "      temp = list(white_pawns.keys())[list(white_pawns.values()).index(move[2:])]\n",
        "      del white_pawns[temp]\n",
        "     except:\n",
        "       temp = list(white_pieces.keys())[list(white_pieces.values()).index(move[2:])]\n",
        "       del white_pieces[temp]\n",
        "\n",
        "  return(white_pawns , white_pieces , black_pawns , black_pieces)\n"
      ],
      "execution_count": 0,
      "outputs": []
    },
    {
      "cell_type": "markdown",
      "metadata": {
        "id": "HsepAWbsjkZe",
        "colab_type": "text"
      },
      "source": [
        "AMBIGUOUS CAPTURE"
      ]
    },
    {
      "cell_type": "code",
      "metadata": {
        "id": "3dW6pByujnWB",
        "colab_type": "code",
        "colab": {}
      },
      "source": [
        "def ambiguous_white_capture(white , white_pieces , black_pieces, black_pawns):\n",
        "     which_one = {'K':king , 'Q':queen , 'N':knight , 'B':bishop , 'R' : rook}\n",
        "     for piece , from_ in white_pieces.items():\n",
        "       if piece.startswith(white[0]) and from_[0] == white[1]:\n",
        "         if which_one[white[0]](from_ , white[3:]):\n",
        "           white_pieces[piece] = white[3:]\n",
        "           break\n",
        "     try:\n",
        "      temp = list(black_pawns.keys())[list(black_pawns.values()).index(white[3:])]\n",
        "      del black_pawns[temp]\n",
        "     except:\n",
        "       temp = list(black_pieces.keys())[list(black_pieces.values()).index(white[3:])]\n",
        "       del black_pieces[temp]\n",
        "\n",
        "     return( white_pieces , black_pawns, black_pieces)\n",
        "\n",
        "def ambiguous_black_capture(black , black_pieces , white_pieces, white_pawns):\n",
        "     which_one = {'K':king , 'Q':queen , 'N':knight , 'B':bishop , 'R' : rook}\n",
        "     for piece , from_ in black_pieces.items():\n",
        "       if piece.startswith(black[0]) and from_[0] == black[1]:\n",
        "         if which_one[black[0]](from_ , black[3:]):\n",
        "           black_pieces[piece] = black[3:]\n",
        "           break\n",
        "     try:\n",
        "      temp = list(white_pawns.keys())[list(white_pawns.values()).index(black[3:])]\n",
        "      del white_pawns[temp]\n",
        "     except:\n",
        "       temp = list(white_pieces.keys())[list(white_pieces.values()).index(black[3:])]\n",
        "       del white_pieces[temp]\n",
        "\n",
        "     return( white_pawns , white_pieces , black_pieces)"
      ],
      "execution_count": 0,
      "outputs": []
    },
    {
      "cell_type": "markdown",
      "metadata": {
        "id": "rywaXZZmmkYZ",
        "colab_type": "text"
      },
      "source": [
        "PAWN PROMOTION"
      ]
    },
    {
      "cell_type": "code",
      "metadata": {
        "id": "1g_kjUWDmmqT",
        "colab_type": "code",
        "colab": {}
      },
      "source": [
        "import re\n",
        "def pawn_promotion(move , white_pawns , white_pieces, black_pawns, black_pieces):\n",
        "  temp = ''\n",
        "  if '(' and ')' in move:\n",
        "    move = move.replace(')' , '').replace('(' , '')\n",
        "  elif '=' in move:\n",
        "    move = move.replace('=' , '')\n",
        "  if int(move[1]) < 4:\n",
        "    for pawn , from_ in black_pawns.items():\n",
        "       if bPawn(from_ , move[:2]) or bPawncap(from_ , move[:2]):\n",
        "         temp = pawn\n",
        "         break\n",
        "    del black_pawns[temp]\n",
        "    to_add = ''\n",
        "    if move[2] in 'NBRQ':\n",
        "      to_add = move[2] + str(list(black_pieces.keys()).count(move[2]))\n",
        "    white_pieces[to_add] = move[:2]\n",
        "    \n",
        "  elif int(move[1]) >= 4:\n",
        "     for pawn , from_ in white_pawns.items():\n",
        "       if wPawn(from_ , move[:2]) or wPawncap(from_ , move[:2]):\n",
        "         temp = pawn\n",
        "         break\n",
        "     del white_pawns[temp]\n",
        "     to_add = ''\n",
        "     if move[2] in 'NBRQ':\n",
        "       to_add = move[2] + str(list(white_pieces.keys()).count(move[2]))\n",
        "     white_pieces[to_add] = move[:2]\n",
        "    \n",
        "  return(white_pawns , white_pieces , black_pawns , black_pieces)\n",
        "  \n"
      ],
      "execution_count": 0,
      "outputs": []
    },
    {
      "cell_type": "code",
      "metadata": {
        "id": "R9m0l8c3R0Ex",
        "colab_type": "code",
        "colab": {}
      },
      "source": [
        "import re\n",
        "ambiguous_move = re.compile('^[NBR]..[0-8]$')\n",
        "ambiguous_capture = re.compile('^[NBR][a-h]x.[0-8]$')\n",
        "\n",
        "def update(white ,black, white_pawns ,white_pieces , black_pawns, black_pieces):\n",
        " \n",
        "    if '+' in white:\n",
        "      white = white[:-1]\n",
        "\n",
        "    if '+' in black:\n",
        "     black = black[:-1]\n",
        "    \n",
        "    if '=' in white or '(' and ')' in white:\n",
        "      white_pawns , white_pieces , black_pawns , black_pieces = pawn_promotion(white ,  white_pawns , white_pieces , black_pawns , black_pieces) \n",
        "    \n",
        "    if 'x' in white:\n",
        "      if ambiguous_capture.match(white):\n",
        "        white_pieces, black_pawns , black_pieces = ambiguous_white_capture(white , white_pieces , black_pieces, black_pawns)\n",
        "      else:\n",
        "        white_pawns ,white_pieces , black_pawns , black_pieces = captures_white(white , white_pawns , white_pieces , black_pawns , black_pieces)\n",
        "\n",
        "    elif white == 'O-O':\n",
        "      white_pieces = white_kings_castle(white_pieces)\n",
        "\n",
        "    elif white == 'O-O-O':\n",
        "      white_pieces = white_queens_castle(white_pieces)\n",
        "      \n",
        "    elif re.match(ambiguous_move , white):\n",
        "      white_pieces = white_ambiguous(white , white_pieces)\n",
        "    \n",
        "    elif white[0].islower():\n",
        "      white_pawns = white_pawn_moves(white , white_pawns)\n",
        "\n",
        "    elif white[0].isupper():\n",
        "      white_pieces = white_piece_moves(white , white_pieces)\n",
        "\n",
        "\n",
        "    if black == '':\n",
        "      pass\n",
        "\n",
        "\n",
        "    elif '=' in black or '(' and ')' in black:\n",
        "      white_pawns , white_pieces , black_pawns , black_pieces = pawn_promotion(black ,  white_pawns , white_pieces , black_pawns , black_pieces) \n",
        "\n",
        "\n",
        "    elif 'x' in black:\n",
        "      if ambiguous_capture.match(black):\n",
        "        white_pawns , white_pieces , black_pieces = ambiguous_black_capture(black , black_pieces , white_pieces, white_pawns)\n",
        "      else:\n",
        "        white_pawns ,white_pieces , black_pawns , black_pieces = captures_black(black, white_pawns , white_pieces , black_pawns , black_pieces)\n",
        "\n",
        "    elif black == 'O-O':\n",
        "      black_pieces = black_kings_castle(black_pieces)\n",
        "\n",
        "    elif black == 'O-O-O':\n",
        "      black_pieces = black_queens_castle(black_pieces)\n",
        "      \n",
        "    elif re.match(ambiguous_move , black):\n",
        "      black_pieces = black_ambiguous(black , black_pieces)\n",
        "    \n",
        "    elif black[0].islower():\n",
        "      black_pawns = black_pawn_moves(black , black_pawns)\n",
        "\n",
        "    elif black[0].isupper():\n",
        "      black_pieces = black_piece_moves(black , black_pieces)\n",
        "    \n",
        "    return (white_pawns, white_pieces, black_pawns, black_pieces)\n"
      ],
      "execution_count": 0,
      "outputs": []
    },
    {
      "cell_type": "code",
      "metadata": {
        "id": "QsGtYumzeGQw",
        "colab_type": "code",
        "outputId": "5dc87a9f-3369-4bfd-a1b1-2c90076b0f4f",
        "colab": {
          "base_uri": "https://localhost:8080/",
          "height": 85
        }
      },
      "source": [
        "def final_positions():  \n",
        "  \n",
        "  white_pieces = (dict(zip(['R1' ,'N1' ,'B1' ,'Q' ,'K','B2','N2','R2'], [x+y for x in 'abcdefgh' for y in '1'])))\n",
        "  white_pawns = (dict(zip(['P1' ,'P2' ,'P3' ,'P4' ,'P5','P6','P7','P8'], [x+y for x in 'abcdefgh' for y in '2'])))\n",
        "  black_pieces = (dict(zip(['R1' ,'N1' ,'B1' ,'Q' ,'K','B2','N2','R2'], [x+y for x in 'abcdefgh' for y in '8'])))\n",
        "  black_pawns = (dict(zip(['P1' ,'P2' ,'P3' ,'P4' ,'P5','P6','P7','P8'], [x+y for x in 'abcdefgh' for y in '7'])))\n",
        "\n",
        "  for moves in game[:]:\n",
        "    white , black = moves[0] , moves[1]\n",
        "    white_pawns ,white_pieces , black_pawns, black_pieces = update(white, black, white_pawns ,white_pieces , black_pawns, black_pieces)\n",
        "  return(\"White_pawns\" ,white_pawns , \"White_pieces\" ,white_pieces , \"Black_pawns\", black_pawns, \"Black_pieces\" , black_pieces)\n",
        "\n",
        "\n",
        "WHITE_PAWNS = (final_positions()[0] , final_positions()[1])\n",
        "WHITE_PIECES = (final_positions()[2] , final_positions()[3])\n",
        "BLACK_PAWNS = (final_positions()[4] , final_positions()[5])\n",
        "BLACK_PIECES = (final_positions()[6] , final_positions()[7])\n",
        "print(WHITE_PAWNS)\n",
        "print(WHITE_PIECES)\n",
        "print(BLACK_PAWNS) \n",
        "print(BLACK_PIECES)\n"
      ],
      "execution_count": 0,
      "outputs": [
        {
          "output_type": "stream",
          "text": [
            "('White_pawns', {'P2': 'c5', 'P6': 'f2', 'P7': 'g2', 'P8': 'h5'})\n",
            "('White_pieces', {'R1': 'd6', 'B1': 'g5', 'Q': 'f5', 'K': 'g1'})\n",
            "('Black_pawns', {'P1': 'a7', 'P2': 'b6', 'P5': 'e5', 'P6': 'f7', 'P8': 'h6'})\n",
            "('Black_pieces', {'Q': 'c7', 'K': 'g7', 'N2': 'd7', 'R2': 'd8'})\n"
          ],
          "name": "stdout"
        }
      ]
    }
  ]
}